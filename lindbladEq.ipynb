{
 "cells": [
  {
   "cell_type": "markdown",
   "id": "e90aacda-b87f-4800-b9ff-d288099cde55",
   "metadata": {},
   "source": [
    "# Lindblad equation"
   ]
  },
  {
   "cell_type": "markdown",
   "id": "8e50f8c9-d441-4c39-99ad-3c00cf5f719f",
   "metadata": {},
   "source": [
    "### Master eq. for a N-qubits system"
   ]
  },
  {
   "cell_type": "markdown",
   "id": "97d06ec1-8289-4ebd-8a38-81ca0daa1eae",
   "metadata": {},
   "source": [
    "Vamos a resolver la evolución temporal de la matriz de densidad de un sistema de dos qubits. Primero se va a resolver haciendo todos los cálculos, para luego compararlo con una funcion solver de qiskit y comprobar que se ha calculado correctamente (https://qiskit-community.github.io/qiskit-dynamics/tutorials/Lindblad_dynamics_simulation)."
   ]
  },
  {
   "cell_type": "markdown",
   "id": "b76e8a77-6188-48d5-a6d2-ed2aed5a87d9",
   "metadata": {},
   "source": [
    "La master equation que vamos a estudiar es:\n",
    "\n",
    "$$\\frac{d}{dt} \\rho(t) = -j [H, \\rho] + \\Gamma \\sum_i\\left( \\sigma^{-}_i \\rho \\sigma^{+}_i - \\frac{1}{2} \\left\\{ \\sigma^{+}_i \\sigma^{-}_i, \\rho \\right\\} \\right)$$\n",
    "\n",
    "\n"
   ]
  },
  {
   "cell_type": "markdown",
   "id": "e6c7350b-d8b4-4d3a-8357-54c097898a4c",
   "metadata": {},
   "source": [
    "El Hamiltoniano del sistema que se ha tomado es el del modelo  TFIM (transverse field Ising model):\n",
    "\n",
    "$$ H = - \\sum_{i=1}^{N} \\left[ J \\sigma_z^i \\sigma_z^{i+1} + g \\sigma_x^i \\right],$$\n",
    "\n",
    "donde el primer término corresponde a la interacción entre qubits por el modelo de Ising y el segundo al efecto del campo transversal.\n"
   ]
  },
  {
   "cell_type": "markdown",
   "id": "985f1c58-a9e9-4bf3-b182-7724758e14a0",
   "metadata": {},
   "source": [
    "Primero definimos los operadores sobre un qubit en el espacio de Hilbert de N qubits. Vamos a definir la matrices de Pauli sobre el qubit i, por ejemplo para pauli(x):\n",
    "\n",
    "$$X_i = I_1 \\otimes I_2 \\otimes \\cdots \\otimes \\sigma^{x}_i \\otimes I_{i+1} \\otimes \\cdots \\otimes I_N$$\n",
    "\n",
    "Se va a usar la función Pauli, que detecta la dimensión del espacio al sumarle un operador de zeros con esa misma dimensión y devuelve la matriz de Pauli correspondiente.\n"
   ]
  },
  {
   "cell_type": "markdown",
   "id": "d13c4ebb-9022-4204-9005-ee39fa0297d8",
   "metadata": {},
   "source": [
    "A continuación, definimos el estado inicial de la matriz de densidad. En este caso se ha construido el estado de Bell $$|\\psi\\rangle = \\frac{|00\\rangle + |11\\rangle}{\\sqrt{2}}$$ mediante un circuito cuántico. Después, se dan valores a los parámetros y se calcula cada uno de los términos del Lindbladiano. \n"
   ]
  },
  {
   "cell_type": "markdown",
   "id": "39f24e8a-ab1c-4d8a-80db-8ff6aa54f3cd",
   "metadata": {},
   "source": [
    "Los operadores de salto son $$L_{\\pm}=\\sqrt{\\Gamma}\\sigma^{\\pm}$$ con \n",
    "\n",
    "$$\\sigma^{\\pm} = \\frac{1}{2} (\\sigma^x \\pm i \\sigma^y)$$\n"
   ]
  },
  {
   "cell_type": "markdown",
   "id": "7a375bb3-b5c5-402d-94c9-a0b82a4f4c1a",
   "metadata": {},
   "source": [
    "\n",
    "Ahora evolucionamos el sistema con $$\\rho[t+1]=\\rho[t]+h\\times (evolución)$$\n",
    "donde $h$ es el paso de la simulación."
   ]
  },
  {
   "cell_type": "markdown",
   "id": "a8282ec4-e6f5-485a-b87c-e36212e14fc6",
   "metadata": {},
   "source": [
    "## Función para el cálculo del liouvilliano"
   ]
  },
  {
   "cell_type": "code",
   "execution_count": 709,
   "id": "fcab9edb-3a08-46af-b03d-f2e83658c131",
   "metadata": {},
   "outputs": [],
   "source": [
    "import sympy as sp\n",
    "from sympy.physics.quantum import Dagger\n",
    "    \n",
    "def calculate_liouvillian(H, L, n):\n",
    "    sp.init_printing(use_unicode=True)  # Print bonito\n",
    "    rho = sp.Matrix(n, n, lambda i, j: sp.symbols(f'rho_{i+1}{j+1}'))#defino rho como una matriz simbólica\n",
    "    \n",
    "    # Calculamos el adjunto de cada matriz L_q\n",
    "    L_adj = [Dagger(L_q) for L_q in L]\n",
    "    \n",
    "    # Ahora operamos\n",
    "    i = sp.I  # Def la unidad imaginaria\n",
    "    \n",
    "    # Cálculo de term1 y term2\n",
    "    term1 = -i * (H * rho - rho * H)\n",
    "    term2 = sp.Matrix.zeros(n, n)\n",
    "    for q in range(int(n/2)):\n",
    "        term2 += L[q] * rho * L_adj[q] - 0.5 * (L_adj[q] * L[q] * rho + rho * L_adj[q] * L[q])\n",
    "\n",
    "    \n",
    "    # Definir rho_t\n",
    "    rho_t = (term1 + term2).reshape(n**2, 1) #espacio FL\n",
    "    rho_vec=rho_t\n",
    "    \n",
    "    #cero un vector de variables rho_ij\n",
    "    rho_vars = [rho[i, j] for i in range(n) for j in range(n)]\n",
    "    \n",
    "    # calculo el jacobiano respecto a los elementos de rho\n",
    "    J = rho_t.jacobian(rho_vars)\n",
    "\n",
    "    return J,rho_vec\n"
   ]
  },
  {
   "cell_type": "code",
   "execution_count": null,
   "id": "8c699bcd-8a51-47ea-a538-2ddb9d20d212",
   "metadata": {},
   "outputs": [],
   "source": []
  },
  {
   "cell_type": "markdown",
   "id": "5370ad0a-218c-4975-8a92-b2c3a1127270",
   "metadata": {},
   "source": [
    "## Cálculo del liouvilliano para el sistema de estudio"
   ]
  },
  {
   "cell_type": "code",
   "execution_count": 878,
   "id": "f269042a-9ad0-49d5-82de-8d25a9ac7b91",
   "metadata": {},
   "outputs": [
    {
     "data": {
      "text/latex": [
       "$\\displaystyle \\left[\\begin{array}{cccccccccccccccc}0 & - 1.0 i & - 1.0 i & 0 & 1.0 i & 0 & 0 & 0 & 1.0 i & 0 & 0 & 0 & 0 & 0 & 0 & 0\\\\- 1.0 i & -2.0 + 2.0 i & 0 & - 1.0 i & 0 & 1.0 i & 0 & 0 & 0 & 1.0 i & 0 & 0 & 0 & 0 & 0 & 0\\\\- 1.0 i & 0 & -2.0 + 2.0 i & - 1.0 i & 0 & 0 & 1.0 i & 0 & 0 & 0 & 1.0 i & 0 & 0 & 0 & 0 & 0\\\\0 & - 1.0 i & - 1.0 i & -4.0 & 0 & 0 & 0 & 1.0 i & 0 & 0 & 0 & 1.0 i & 0 & 0 & 0 & 0\\\\1.0 i & 0 & 0 & 0 & -2.0 - 2.0 i & - 1.0 i & - 1.0 i & 0 & 0 & 0 & 0 & 0 & 1.0 i & 0 & 0 & 0\\\\0 & 1.0 i & 0 & 0 & - 1.0 i & 0 & 0 & - 1.0 i & 0 & 0 & 0 & 0 & 0 & 1.0 i & 0 & 0\\\\0 & 0 & 1.0 i & 0 & - 1.0 i & 0 & -4.0 & - 1.0 i & 0 & 0 & 0 & 0 & 0 & 0 & 1.0 i & 0\\\\0 & 0 & 0 & 1.0 i & 0 & - 1.0 i & - 1.0 i & -2.0 - 2.0 i & 0 & 0 & 0 & 0 & 0 & 0 & 0 & 1.0 i\\\\1.0 i & 0 & 0 & 0 & 0 & 0 & 0 & 0 & -2.0 - 2.0 i & - 1.0 i & - 1.0 i & 0 & 1.0 i & 0 & 0 & 0\\\\0 & 1.0 i & 0 & 0 & 0 & 0 & 0 & 0 & - 1.0 i & -4.0 & 0 & - 1.0 i & 0 & 1.0 i & 0 & 0\\\\0 & 0 & 1.0 i & 0 & 0 & 0 & 0 & 0 & - 1.0 i & 0 & 0 & - 1.0 i & 0 & 0 & 1.0 i & 0\\\\0 & 0 & 0 & 1.0 i & 0 & 0 & 0 & 0 & 0 & - 1.0 i & - 1.0 i & -2.0 - 2.0 i & 0 & 0 & 0 & 1.0 i\\\\0 & 0 & 0 & 0 & 1.0 i & 0 & 0 & 0 & 1.0 i & 0 & 0 & 0 & -4.0 & - 1.0 i & - 1.0 i & 0\\\\0 & 0 & 0 & 0 & 0 & 1.0 i & 0 & 0 & 0 & 1.0 i & 0 & 0 & - 1.0 i & -2.0 + 2.0 i & 0 & - 1.0 i\\\\0 & 0 & 0 & 0 & 0 & 0 & 1.0 i & 0 & 0 & 0 & 1.0 i & 0 & - 1.0 i & 0 & -2.0 + 2.0 i & - 1.0 i\\\\0 & 0 & 0 & 0 & 0 & 0 & 0 & 1.0 i & 0 & 0 & 0 & 1.0 i & 0 & - 1.0 i & - 1.0 i & 0\\end{array}\\right]$"
      ],
      "text/plain": [
       "⎡  0        -1.0⋅ⅈ        -1.0⋅ⅈ       0        1.0⋅ⅈ        0       0          0           1.0⋅ⅈ        0       ↪\n",
       "⎢                                                                                                                ↪\n",
       "⎢-1.0⋅ⅈ  -2.0 + 2.0⋅ⅈ       0        -1.0⋅ⅈ       0        1.0⋅ⅈ     0          0             0        1.0⋅ⅈ     ↪\n",
       "⎢                                                                                                                ↪\n",
       "⎢-1.0⋅ⅈ       0        -2.0 + 2.0⋅ⅈ  -1.0⋅ⅈ       0          0     1.0⋅ⅈ        0             0          0     1 ↪\n",
       "⎢                                                                                                                ↪\n",
       "⎢  0        -1.0⋅ⅈ        -1.0⋅ⅈ      -4.0        0          0       0        1.0⋅ⅈ           0          0       ↪\n",
       "⎢                                                                                                                ↪\n",
       "⎢1.0⋅ⅈ        0             0          0     -2.0 - 2.0⋅ⅈ  -1.0⋅ⅈ  -1.0⋅ⅈ       0             0          0       ↪\n",
       "⎢                                                                                                                ↪\n",
       "⎢  0        1.0⋅ⅈ           0          0        -1.0⋅ⅈ       0       0        -1.0⋅ⅈ          0          0       ↪\n",
       "⎢                                                                                                                ↪\n",
       "⎢  0          0           1.0⋅ⅈ        0        -1.0⋅ⅈ       0      -4.0      -1.0⋅ⅈ          0          0       ↪\n",
       "⎢                                                                                                                ↪\n",
       "⎢  0          0             0        1.0⋅ⅈ        0        -1.0⋅ⅈ  -1.0⋅ⅈ  -2.0 - 2.0⋅ⅈ       0          0       ↪\n",
       "⎢                                                                                                                ↪\n",
       "⎢1.0⋅ⅈ        0             0          0          0          0       0          0        -2.0 - 2.0⋅ⅈ  -1.0⋅ⅈ  - ↪\n",
       "⎢                                                                                                                ↪\n",
       "⎢  0        1.0⋅ⅈ           0          0          0          0       0          0           -1.0⋅ⅈ      -4.0     ↪\n",
       "⎢                                                                                                                ↪\n",
       "⎢  0          0           1.0⋅ⅈ        0          0          0       0          0           -1.0⋅ⅈ       0       ↪\n",
       "⎢                                                                                                                ↪\n",
       "⎢  0          0             0        1.0⋅ⅈ        0          0       0          0             0        -1.0⋅ⅈ  - ↪\n",
       "⎢                                                                                                                ↪\n",
       "⎢  0          0             0          0        1.0⋅ⅈ        0       0          0           1.0⋅ⅈ        0       ↪\n",
       "⎢                                                                                                                ↪\n",
       "⎢  0          0             0          0          0        1.0⋅ⅈ     0          0             0        1.0⋅ⅈ     ↪\n",
       "⎢                                                                                                                ↪\n",
       "⎢  0          0             0          0          0          0     1.0⋅ⅈ        0             0          0     1 ↪\n",
       "⎢                                                                                                                ↪\n",
       "⎣  0          0             0          0          0          0       0        1.0⋅ⅈ           0          0       ↪\n",
       "\n",
       "↪  0          0          0          0             0          0   ⎤\n",
       "↪                                                                ⎥\n",
       "↪  0          0          0          0             0          0   ⎥\n",
       "↪                                                                ⎥\n",
       "↪ .0⋅ⅈ        0          0          0             0          0   ⎥\n",
       "↪                                                                ⎥\n",
       "↪  0        1.0⋅ⅈ        0          0             0          0   ⎥\n",
       "↪                                                                ⎥\n",
       "↪  0          0        1.0⋅ⅈ        0             0          0   ⎥\n",
       "↪                                                                ⎥\n",
       "↪  0          0          0        1.0⋅ⅈ           0          0   ⎥\n",
       "↪                                                                ⎥\n",
       "↪  0          0          0          0           1.0⋅ⅈ        0   ⎥\n",
       "↪                                                                ⎥\n",
       "↪  0          0          0          0             0        1.0⋅ⅈ ⎥\n",
       "↪                                                                ⎥\n",
       "↪ 1.0⋅ⅈ       0        1.0⋅ⅈ        0             0          0   ⎥\n",
       "↪                                                                ⎥\n",
       "↪  0        -1.0⋅ⅈ       0        1.0⋅ⅈ           0          0   ⎥\n",
       "↪                                                                ⎥\n",
       "↪  0        -1.0⋅ⅈ       0          0           1.0⋅ⅈ        0   ⎥\n",
       "↪                                                                ⎥\n",
       "↪ 1.0⋅ⅈ  -2.0 - 2.0⋅ⅈ    0          0             0        1.0⋅ⅈ ⎥\n",
       "↪                                                                ⎥\n",
       "↪  0          0         -4.0      -1.0⋅ⅈ        -1.0⋅ⅈ       0   ⎥\n",
       "↪                                                                ⎥\n",
       "↪  0          0        -1.0⋅ⅈ  -2.0 + 2.0⋅ⅈ       0        -1.0⋅ⅈ⎥\n",
       "↪                                                                ⎥\n",
       "↪ .0⋅ⅈ        0        -1.0⋅ⅈ       0        -2.0 + 2.0⋅ⅈ  -1.0⋅ⅈ⎥\n",
       "↪                                                                ⎥\n",
       "↪  0        1.0⋅ⅈ        0        -1.0⋅ⅈ        -1.0⋅ⅈ       0   ⎦"
      ]
     },
     "execution_count": 878,
     "metadata": {},
     "output_type": "execute_result"
    }
   ],
   "source": [
    "import numpy as np\n",
    "from qiskit.quantum_info import Operator, Pauli\n",
    "\n",
    "#tamaño del sistema\n",
    "N = 2\n",
    "n= 2**N #dim matriz\n",
    "#guardo los operadores para cada qubit\n",
    "x_ops = []\n",
    "y_ops = []\n",
    "z_ops = []\n",
    "qubits = range(N)\n",
    "\n",
    "#defino un operador de ceros, ya que la función Pauli detecta la dim al sumarle este operador y \n",
    "#devuelve la matriz de pauli correspondiente en esa dim\n",
    "zeros = Operator(np.zeros((2 ** N, 2 ** N)))\n",
    "\n",
    "for i in qubits:\n",
    "    X =  Pauli('X')(i) + zeros\n",
    "    x_ops.append(X)\n",
    "\n",
    "    Y = zeros + Pauli('Y')(i)\n",
    "    y_ops.append(Y)\n",
    "\n",
    "    Z = zeros + Pauli('Z')(i)\n",
    "    z_ops.append(Z)\n",
    "\n",
    "#definimos algunos parámetros\n",
    "g = 1.\n",
    "J = 1.\n",
    "Gamma = 4.\n",
    "\n",
    "\n",
    "#definimos el hamiltoniano\n",
    "\n",
    "H = np.zeros((2**N, 2**N), dtype=complex)\n",
    "for i in qubits:\n",
    "    X = x_ops[i]\n",
    "    H -= g* X\n",
    "\n",
    "    #término de interacción entre qubits\n",
    "    if (N > 1) & (i<N-1):\n",
    "        j = (i + 1)\n",
    "        op = zeros + Pauli('ZZ')(i, j)\n",
    "        H -= J * op\n",
    "        \n",
    "H_matrix = sp.Matrix(H)  # Convierte H a una matriz de numpy\n",
    "\n",
    "#jump operators\n",
    "L_op= []\n",
    "for i in qubits:\n",
    "     X = x_ops[i].data  # Convierte X a numpy\n",
    "     Y = y_ops[i].data  # Convierte Y a numpy\n",
    "     Z = z_ops[i].data  # Convierte Y a numpy\n",
    "    \n",
    "     #L= np.sqrt(Gamma) * 0.5 * (X + 1j * Y)\n",
    "     L= np.sqrt(Gamma) * 0.5 * (Z)\n",
    "     L_q=sp.Matrix(L) #importante que esté en este formato\n",
    "     L_op.append(L_q)\n",
    "\n",
    "liouvillian,rho_vec= calculate_liouvillian(H_matrix, L_op, n)\n",
    "liouvillian\n"
   ]
  },
  {
   "cell_type": "code",
   "execution_count": 823,
   "id": "5fde014a-4757-4b3c-a905-980635e6ee8d",
   "metadata": {},
   "outputs": [
    {
     "data": {
      "image/png": "[encoded data removed]",
      "text/latex": [
       "$\\displaystyle 0$"
      ],
      "text/plain": [
       "0"
      ]
     },
     "execution_count": 823,
     "metadata": {},
     "output_type": "execute_result"
    }
   ],
   "source": [
    "determinante=liouvillian.det()\n",
    "determinante"
   ]
  },
  {
   "cell_type": "code",
   "execution_count": 824,
   "id": "a6e6a661-4baf-45ad-bb21-ef1bde9e4970",
   "metadata": {
    "scrolled": true
   },
   "outputs": [
    {
     "name": "stdout",
     "output_type": "stream",
     "text": [
      "Vectores del espacio nulo (soluciones de Av = 0):\n",
      "[[-5.0000006e-01-0.0000000e+00j]\n",
      " [ 2.9802322e-08+4.8428774e-08j]\n",
      " [ 5.9604645e-08+4.0978193e-08j]\n",
      " [ 5.2154064e-08+5.0291419e-08j]\n",
      " [ 5.9604645e-08-5.9604645e-08j]\n",
      " [-4.9999997e-01+1.8626451e-08j]\n",
      " [-4.8428774e-08+1.3969839e-08j]\n",
      " [ 3.7252903e-08-3.7252903e-09j]\n",
      " [ 4.4703484e-08-0.0000000e+00j]\n",
      " [-2.9802322e-08-2.4214387e-08j]\n",
      " [-5.0000006e-01-2.2351742e-08j]\n",
      " [ 5.4948032e-08+4.0978193e-08j]\n",
      " [ 4.8428774e-08-4.6566129e-08j]\n",
      " [ 2.2351742e-08+2.5145710e-08j]\n",
      " [ 8.9406967e-08-1.1175871e-08j]\n",
      " [-5.0000000e-01+7.4505806e-09j]]\n"
     ]
    }
   ],
   "source": [
    "from scipy.linalg import null_space\n",
    "liouvillian= np.matrix(liouvillian).astype(np.complex64)\n",
    "null_vector = null_space(liouvillian)\n",
    "\n",
    "print(\"Vectores del espacio nulo (soluciones de Av = 0):\")\n",
    "print(null_vector)"
   ]
  },
  {
   "cell_type": "code",
   "execution_count": 813,
   "id": "2825e976-56da-4da1-94b2-5d845150c07d",
   "metadata": {},
   "outputs": [
    {
     "data": {
      "image/png": "[encoded data removed]",
      "text/latex": [
       "$\\displaystyle \\left( 0.788461474638586, \\  0.0961538752738369, \\  0.0961538752738368, \\  -0.0769230934288606, \\  0.153846115276502, \\  0.0769230934476453, \\  -1.41716327571966 \\cdot 10^{-8}\\right)$"
      ],
      "text/plain": [
       "(0.7884614746385855, 0.09615387527383686, 0.09615387527383684, -0.07692309342886061, 0.153846115276502, 0.076923093 ↪\n",
       "\n",
       "↪ 44764532, -1.4171632757196623e-08)"
      ]
     },
     "execution_count": 813,
     "metadata": {},
     "output_type": "execute_result"
    }
   ],
   "source": [
    "p00_data[1, t_i], p11_data[1, t_i], p22_data[1, t_i], p30_data[1, t_i], p01_data[1, t_i], p12_data[1, t_i], p23_data[1, t_i]"
   ]
  },
  {
   "cell_type": "code",
   "execution_count": 782,
   "id": "d8dd4865-5239-4c14-8ca7-4c41992963ee",
   "metadata": {},
   "outputs": [],
   "source": [
    "\"\"\"\n",
    "sp.init_printing(use_unicode=True)  # Print bonito\n",
    "eigenvects = liouvillian.eigenvects()  # Obtiene los autovalores\n",
    "eigenvalues = liouvillian.eigenvals()  # Obtiene los autovectores\n",
    "\"\"\""
   ]
  },
  {
   "cell_type": "code",
   "execution_count": 820,
   "id": "0cf8ccbf-e869-4aa2-8b01-0626729efc40",
   "metadata": {},
   "outputs": [],
   "source": [
    "#eigenvalues"
   ]
  },
  {
   "cell_type": "code",
   "execution_count": 821,
   "id": "3a81ef18-262f-46ad-a658-8dd2f196ccfd",
   "metadata": {
    "scrolled": true
   },
   "outputs": [],
   "source": [
    "#eigenvects[8][2]\n"
   ]
  },
  {
   "cell_type": "markdown",
   "id": "87c88f47-b102-4680-8b71-1bc35348fc23",
   "metadata": {},
   "source": [
    "## Evolución con el liouvilliano"
   ]
  },
  {
   "cell_type": "code",
   "execution_count": 825,
   "id": "cc219bc4-ae59-478f-8b44-9272953f902d",
   "metadata": {},
   "outputs": [],
   "source": [
    "from qiskit.quantum_info import DensityMatrix\n",
    "from qiskit import QuantumCircuit\n",
    "import numpy as np\n",
    "\n",
    "# Circuito cuántico de 2 qubits en el estado de Bell |ψ⟩ = (|00⟩ + |11⟩) / √2\n",
    "bell_circuit = QuantumCircuit(2)\n",
    "bell_circuit.h(0)  \n",
    "bell_circuit.cx(0, 1) \n",
    "\n",
    "# Definimos la matriz de densidad\n",
    "rho_0 = DensityMatrix.from_instruction(bell_circuit)\n",
    "rho_0_matrix = rho_0.data # Convierte rho_0 a una matriz de numpy\n",
    "\n",
    "#guardamos la evolución de la matriz densidad en cada paso\n",
    "rho=[]\n",
    "rho.append(rho_0_matrix)\n",
    "liouvillian= np.matrix(liouvillian).astype(np.complex64)\n",
    "rho_t=rho_0_matrix.reshape(n**2, 1)\n",
    "\n",
    "#ahora evolucionamos el sistema\n",
    "t_final = 24./Gamma\n",
    "tau = .0001 #tamaño del paso =paso\n",
    "n_steps = int(np.ceil(t_final / tau)) +1\n",
    "t_eval = np.linspace(0., t_final, n_steps)\n",
    "\n",
    "for k in range(1,n_steps):\n",
    "    rho_t+=tau*liouvillian*rho_t\n",
    "    rho_t=rho_t/np.trace(rho_t.reshape(n, n))\n",
    "    rho.append(rho_t.reshape(n, n))\n",
    "    "
   ]
  },
  {
   "cell_type": "code",
   "execution_count": 826,
   "id": "7c55d570-b537-4206-b0cb-d44001c3dc5d",
   "metadata": {},
   "outputs": [
    {
     "name": "stderr",
     "output_type": "stream",
     "text": [
      "C:\\Users\\aileo\\AppData\\Local\\Temp\\ipykernel_15472\\4199781024.py:15: ComplexWarning: Casting complex values to real discards the imaginary part\n",
      "  p00_data[i, t_i] = (rho[t_i])[0][0]\n",
      "C:\\Users\\aileo\\AppData\\Local\\Temp\\ipykernel_15472\\4199781024.py:16: ComplexWarning: Casting complex values to real discards the imaginary part\n",
      "  p11_data[i, t_i] = (rho[t_i])[1][1]\n",
      "C:\\Users\\aileo\\AppData\\Local\\Temp\\ipykernel_15472\\4199781024.py:17: ComplexWarning: Casting complex values to real discards the imaginary part\n",
      "  p22_data[i, t_i] = (rho[t_i])[2][2]\n",
      "C:\\Users\\aileo\\AppData\\Local\\Temp\\ipykernel_15472\\4199781024.py:18: ComplexWarning: Casting complex values to real discards the imaginary part\n",
      "  p30_data[i, t_i] = (rho[t_i])[3][0]\n",
      "C:\\Users\\aileo\\AppData\\Local\\Temp\\ipykernel_15472\\4199781024.py:19: ComplexWarning: Casting complex values to real discards the imaginary part\n",
      "  p01_data[i, t_i] = (rho[t_i])[0][1]\n",
      "C:\\Users\\aileo\\AppData\\Local\\Temp\\ipykernel_15472\\4199781024.py:20: ComplexWarning: Casting complex values to real discards the imaginary part\n",
      "  p12_data[i, t_i] = (rho[t_i])[1][2]\n",
      "C:\\Users\\aileo\\AppData\\Local\\Temp\\ipykernel_15472\\4199781024.py:21: ComplexWarning: Casting complex values to real discards the imaginary part\n",
      "  p23_data[i, t_i] = (rho[t_i])[2][3]\n"
     ]
    },
    {
     "data": {
      "text/plain": [
       "Text(0.5, 1.0, '$\\\\rho_{ii}$ vs. $t$')"
      ]
     },
     "execution_count": 826,
     "metadata": {},
     "output_type": "execute_result"
    },
    {
     "data": {
      "image/png": "[encoded data removed]",
      "text/plain": [
       "<Figure size 1000x600 with 1 Axes>"
      ]
     },
     "metadata": {},
     "output_type": "display_data"
    }
   ],
   "source": [
    "#representacion grafica\n",
    "\n",
    "import matplotlib.pyplot as plt\n",
    "%matplotlib inline\n",
    "n_times = len(t_eval)\n",
    "p00_data = np.zeros((N, n_times))\n",
    "p11_data = np.zeros((N, n_times))\n",
    "p22_data = np.zeros((N, n_times))\n",
    "p30_data = np.zeros((N, n_times))\n",
    "p01_data = np.zeros((N, n_times))\n",
    "p12_data = np.zeros((N, n_times))\n",
    "p23_data = np.zeros((N, n_times))\n",
    "for t_i in range(n_steps):\n",
    "    for i in qubits:\n",
    "        p00_data[i, t_i] = (rho[t_i])[0][0]\n",
    "        p11_data[i, t_i] = (rho[t_i])[1][1]\n",
    "        p22_data[i, t_i] = (rho[t_i])[2][2]\n",
    "        p30_data[i, t_i] = (rho[t_i])[3][0]\n",
    "        p01_data[i, t_i] = (rho[t_i])[0][1]\n",
    "        p12_data[i, t_i] = (rho[t_i])[1][2]\n",
    "        p23_data[i, t_i] = (rho[t_i])[2][3]\n",
    "\n",
    "fontsize = 16\n",
    "\n",
    "_, ax = plt.subplots(figsize = (10, 6))\n",
    "plt.rcParams.update({'font.size': fontsize})\n",
    "plt.plot(t_eval, p00_data[0,], label = '$\\\\rho_{00}$')\n",
    "plt.plot(t_eval, p11_data[0,], label = '$\\\\rho_{11}$')\n",
    "plt.plot(t_eval, p22_data[0,], label = '$\\\\rho_{22}$')\n",
    "plt.plot(t_eval, p30_data[0,], label = '$\\\\rho_{30}$')\n",
    "plt.plot(t_eval, p01_data[0,], label = '$\\\\rho_{01}$')\n",
    "plt.plot(t_eval, p12_data[0,], label = '$\\\\rho_{12}$')\n",
    "plt.plot(t_eval, p23_data[0,], label = '$\\\\rho_{23}$')\n",
    "\n",
    "plt.legend(fontsize = fontsize)\n",
    "ax.set_xlabel('$t$', fontsize = fontsize)\n",
    "ax.set_title(r'$\\rho_{ii}$ vs. $t$', fontsize = fontsize)\n",
    "    "
   ]
  },
  {
   "cell_type": "markdown",
   "id": "a839b447-899d-4fb7-bab5-04056b567d0b",
   "metadata": {},
   "source": [
    "## Evolución operando la Ec. de Lindblad"
   ]
  },
  {
   "cell_type": "markdown",
   "id": "264bcc60-c4cf-4dc1-aa65-b919c1198794",
   "metadata": {},
   "source": [
    "### Bloque para g cte"
   ]
  },
  {
   "cell_type": "code",
   "execution_count": 869,
   "id": "d36f22f8-d984-46c4-90a3-de81e3b059ba",
   "metadata": {},
   "outputs": [],
   "source": [
    "from qiskit.quantum_info import DensityMatrix\n",
    "from qiskit import QuantumCircuit\n",
    "import numpy as np\n",
    "\n",
    "# Circuito cuántico de 2 qubits en el estado de Bell |ψ⟩ = (|00⟩ + |11⟩) / √2\n",
    "bell_circuit = QuantumCircuit(2)\n",
    "bell_circuit.h(0)  \n",
    "bell_circuit.cx(0, 1) \n",
    "\n",
    "# Definimos la matriz de densidad\n",
    "rho_0 = DensityMatrix.from_instruction(bell_circuit)\n",
    "rho_t = rho_0.data  # Convierte rho_0 a una matriz de numpy\n",
    "\n",
    "#guardamos la evolución de la matriz densidad en cada paso\n",
    "rho=[]\n",
    "rho.append(rho_t)\n",
    "\n",
    "H_matrix=H.data\n",
    "\n",
    "#ahora evolucionamos el sistema de ecuaciones diferenciales\n",
    "\n",
    "t_final = 24./Gamma\n",
    "tau = .0001 #tamaño del paso =paso\n",
    "n_steps = int(np.ceil(t_final / tau)) +1\n",
    "t_eval = np.linspace(0., t_final, n_steps)\n",
    "\n",
    "for k in range(1,n_steps):\n",
    "    #primer termino de la ecuacion de lindblad\n",
    "    term1 = -1j * (np.dot(H_matrix, rho_t) - np.dot(rho_t, H_matrix))\n",
    "    #segundo termino de la ecuacion de lindblad\n",
    "    term2 = np.zeros((2**N, 2**N), dtype=complex)\n",
    "    for i in qubits:\n",
    "         X = x_ops[i].data  # Convierte X a numpy\n",
    "         Y = y_ops[i].data  # Convierte Y a numpy\n",
    "         Z = z_ops[i].data  # Convierte Y a numpy\n",
    "         \n",
    "         #L_mas = np.sqrt(Gamma) * 0.5 * (X + 1j * Y)\n",
    "         L_mas = np.sqrt(Gamma) * 0.5 * (Z)\n",
    "         L_menos = L_mas.conj().T  # Conjugado transpuesto para el operador de Lindblad\n",
    "    \n",
    "         term2 += np.dot(L_mas, np.dot(rho_t, L_menos)) - 0.5*(np.dot(L_menos, np.dot(L_mas, rho_t)) + np.dot(rho_t, np.dot(L_menos, L_mas))) \n",
    "\n",
    "    rho_t+=tau*(term1+term2) \n",
    "    rho_t=rho_t/np.trace(rho_t)\n",
    "    rho.append(rho_t)\n"
   ]
  },
  {
   "cell_type": "markdown",
   "id": "ecbbd622-6b48-464d-9ff9-4cc1074c63d5",
   "metadata": {},
   "source": [
    "### Bloque para g con ruido"
   ]
  },
  {
   "cell_type": "code",
   "execution_count": 879,
   "id": "73272d5d-cbfc-40a2-810e-d8c7700dbebb",
   "metadata": {},
   "outputs": [],
   "source": [
    "from qiskit.quantum_info import DensityMatrix\n",
    "from qiskit import QuantumCircuit\n",
    "import numpy as np\n",
    "\n",
    "# Circuito cuántico de 2 qubits en el estado de Bell |ψ⟩ = (|00⟩ + |11⟩) / √2\n",
    "bell_circuit = QuantumCircuit(2)\n",
    "bell_circuit.h(0)  \n",
    "bell_circuit.cx(0, 1) \n",
    "\n",
    "# Definimos la matriz de densidad\n",
    "rho_0 = DensityMatrix.from_instruction(bell_circuit)\n",
    "\n",
    "\n",
    "#hacemos repeticiones para caluclar la media con el ruido\n",
    "for rep in range(1):    \n",
    "    #guardamos la evolución de la matriz densidad en cada paso\n",
    "    rho=[]\n",
    "    rho_t = rho_0.data  # Convierte rho_0 a una matriz de numpy\n",
    "    rho.append(rho_t)\n",
    "    \n",
    "    \n",
    "    \n",
    "    #ahora evolucionamos el sistema de ecuaciones diferenciales\n",
    "    \n",
    "    t_final = 24./Gamma\n",
    "    tau = .0001 #tamaño del paso =paso\n",
    "    n_steps = int(np.ceil(t_final / tau)) +1\n",
    "    t_eval = np.linspace(0., t_final, n_steps)\n",
    "    g=1.0\n",
    "    \n",
    "    for k in range(1,n_steps):\n",
    "        #variamos el valor de g y actualizamos H\n",
    "        g_ruido=g+np.random.normal(0, 0.3)\n",
    "        H = np.zeros((2**N, 2**N), dtype=complex)\n",
    "        for i in qubits:\n",
    "            X = x_ops[i]\n",
    "            H -= g_ruido* X\n",
    "    \n",
    "        #término de interacción entre qubits\n",
    "        if (N > 1) & (i<N-1):\n",
    "            j = (i + 1)\n",
    "            op = zeros + Pauli('ZZ')(i, j)\n",
    "            H -= J * op\n",
    "        H_matrix=H.data    \n",
    "        #primer termino de la ecuacion de lindblad\n",
    "        term1 = -1j * (np.dot(H_matrix, rho_t) - np.dot(rho_t, H_matrix))\n",
    "        #segundo termino de la ecuacion de lindblad\n",
    "        term2 = np.zeros((2**N, 2**N), dtype=complex)\n",
    "        for i in qubits:\n",
    "             X = x_ops[i].data  # Convierte X a numpy\n",
    "             Y = y_ops[i].data  # Convierte Y a numpy\n",
    "             Z = z_ops[i].data  # Convierte Y a numpy\n",
    "             \n",
    "             #L_mas = np.sqrt(Gamma) * 0.5 * (X + 1j * Y)\n",
    "             L_mas = np.sqrt(Gamma) * 0.5 * (Z)\n",
    "             L_menos = L_mas.conj().T  # Conjugado transpuesto para el operador de Lindblad\n",
    "        \n",
    "             term2 += np.dot(L_mas, np.dot(rho_t, L_menos)) - 0.5*(np.dot(L_menos, np.dot(L_mas, rho_t)) + np.dot(rho_t, np.dot(L_menos, L_mas))) \n",
    "    \n",
    "        rho_t+=tau*(term1+term2) \n",
    "        rho_t=rho_t/np.trace(rho_t)\n",
    "        rho.append(rho_t)\n"
   ]
  },
  {
   "cell_type": "markdown",
   "id": "51bd6352-32ee-42cb-95c0-b169f0715ef2",
   "metadata": {},
   "source": [
    "Calculamos single-qubit Pauli expectation values para $\\sigma^x$ para comparar luego con el obtenido en la función solver."
   ]
  },
  {
   "cell_type": "code",
   "execution_count": 880,
   "id": "6f1432a0-9802-4a74-82fb-56ec8ae5d0f1",
   "metadata": {},
   "outputs": [
    {
     "name": "stderr",
     "output_type": "stream",
     "text": [
      "C:\\Users\\aileo\\AppData\\Local\\Temp\\ipykernel_15472\\2004794317.py:9: ComplexWarning: Casting complex values to real discards the imaginary part\n",
      "  x_data[i, t_i] = np.trace(np.dot(x_ops[i].data,rho[t_i]))\n"
     ]
    }
   ],
   "source": [
    "#calculamos observables\n",
    "#single-qubit pauli expectation values\n",
    "n_times = len(t_eval)\n",
    "x_data = np.zeros((N, n_times))\n",
    "x_mean = np.zeros((n_times,))\n",
    "\n",
    "for t_i in range(1,n_steps):\n",
    "    for i in qubits:\n",
    "        x_data[i, t_i] = np.trace(np.dot(x_ops[i].data,rho[t_i]))\n",
    "    x_mean[t_i] = np.mean(x_data[:, t_i])\n"
   ]
  },
  {
   "cell_type": "code",
   "execution_count": 881,
   "id": "534fef38-2343-4c6a-9414-b75f0155566d",
   "metadata": {
    "scrolled": true
   },
   "outputs": [
    {
     "name": "stderr",
     "output_type": "stream",
     "text": [
      "<>:9: SyntaxWarning: invalid escape sequence '\\s'\n",
      "<>:9: SyntaxWarning: invalid escape sequence '\\s'\n",
      "C:\\Users\\aileo\\AppData\\Local\\Temp\\ipykernel_15472\\2351590516.py:9: SyntaxWarning: invalid escape sequence '\\s'\n",
      "  plt.plot(t_eval, x_data[0], label = '$ N^{-1}\\sum_i \\\\langle X_i \\\\rangle$')\n"
     ]
    },
    {
     "data": {
      "text/plain": [
       "Text(0.5, 1.0, 'Mean Bloch vector vs. $t$')"
      ]
     },
     "execution_count": 881,
     "metadata": {},
     "output_type": "execute_result"
    },
    {
     "data": {
      "image/png": "[encoded data removed]",
      "text/plain": [
       "<Figure size 1000x600 with 1 Axes>"
      ]
     },
     "metadata": {},
     "output_type": "display_data"
    }
   ],
   "source": [
    "#plot del resultado\n",
    "import matplotlib.pyplot as plt\n",
    "%matplotlib inline\n",
    "\n",
    "fontsize = 16\n",
    "\n",
    "_, ax = plt.subplots(figsize = (10, 6))\n",
    "plt.rcParams.update({'font.size': fontsize})\n",
    "plt.plot(t_eval, x_data[0], label = '$ N^{-1}\\sum_i \\\\langle X_i \\\\rangle$')\n",
    "\n",
    "plt.legend(fontsize = fontsize)\n",
    "ax.set_xlabel('$t$', fontsize = fontsize)\n",
    "ax.set_title('Mean Bloch vector vs. $t$', fontsize = fontsize)\n",
    "\n"
   ]
  },
  {
   "cell_type": "markdown",
   "id": "512c0d7b-b291-468e-99f6-f4576e68bad0",
   "metadata": {},
   "source": [
    "A parte, vamos a representar la evolución de los términos diagonales de la matriz densidad:"
   ]
  },
  {
   "cell_type": "code",
   "execution_count": 882,
   "id": "2aae95d9-836c-45f5-8197-414770894856",
   "metadata": {},
   "outputs": [
    {
     "name": "stderr",
     "output_type": "stream",
     "text": [
      "C:\\Users\\aileo\\AppData\\Local\\Temp\\ipykernel_15472\\2549965775.py:15: ComplexWarning: Casting complex values to real discards the imaginary part\n",
      "  p00_data[i, t_i] = (rho[t_i])[0][0]\n",
      "C:\\Users\\aileo\\AppData\\Local\\Temp\\ipykernel_15472\\2549965775.py:16: ComplexWarning: Casting complex values to real discards the imaginary part\n",
      "  p11_data[i, t_i] = (rho[t_i])[1][1]\n",
      "C:\\Users\\aileo\\AppData\\Local\\Temp\\ipykernel_15472\\2549965775.py:17: ComplexWarning: Casting complex values to real discards the imaginary part\n",
      "  p22_data[i, t_i] = (rho[t_i])[2][2]\n",
      "C:\\Users\\aileo\\AppData\\Local\\Temp\\ipykernel_15472\\2549965775.py:18: ComplexWarning: Casting complex values to real discards the imaginary part\n",
      "  p30_data[i, t_i] = (rho[t_i])[3][0]\n",
      "C:\\Users\\aileo\\AppData\\Local\\Temp\\ipykernel_15472\\2549965775.py:19: ComplexWarning: Casting complex values to real discards the imaginary part\n",
      "  p01_data[i, t_i] = (rho[t_i])[0][1]\n",
      "C:\\Users\\aileo\\AppData\\Local\\Temp\\ipykernel_15472\\2549965775.py:20: ComplexWarning: Casting complex values to real discards the imaginary part\n",
      "  p12_data[i, t_i] = (rho[t_i])[1][2]\n",
      "C:\\Users\\aileo\\AppData\\Local\\Temp\\ipykernel_15472\\2549965775.py:21: ComplexWarning: Casting complex values to real discards the imaginary part\n",
      "  p23_data[i, t_i] = (rho[t_i])[2][3]\n"
     ]
    },
    {
     "data": {
      "text/plain": [
       "Text(0.5, 1.0, '$\\\\rho_{ii}$ vs. $t$')"
      ]
     },
     "execution_count": 882,
     "metadata": {},
     "output_type": "execute_result"
    },
    {
     "data": {
      "image/png": "[encoded data removed]",
      "text/plain": [
       "<Figure size 1000x600 with 1 Axes>"
      ]
     },
     "metadata": {},
     "output_type": "display_data"
    }
   ],
   "source": [
    "#diagonal matriz densidad p00, p11, p22, p33\n",
    "\n",
    "import matplotlib.pyplot as plt\n",
    "%matplotlib inline\n",
    "\n",
    "p00_data = np.zeros((N, n_times))\n",
    "p11_data = np.zeros((N, n_times))\n",
    "p22_data = np.zeros((N, n_times))\n",
    "p30_data = np.zeros((N, n_times))\n",
    "p01_data = np.zeros((N, n_times))\n",
    "p12_data = np.zeros((N, n_times))\n",
    "p23_data = np.zeros((N, n_times))\n",
    "for t_i in range(n_steps):\n",
    "    for i in qubits:\n",
    "        p00_data[i, t_i] = (rho[t_i])[0][0]\n",
    "        p11_data[i, t_i] = (rho[t_i])[1][1]\n",
    "        p22_data[i, t_i] = (rho[t_i])[2][2]\n",
    "        p30_data[i, t_i] = (rho[t_i])[3][0]\n",
    "        p01_data[i, t_i] = (rho[t_i])[0][1]\n",
    "        p12_data[i, t_i] = (rho[t_i])[1][2]\n",
    "        p23_data[i, t_i] = (rho[t_i])[2][3]\n",
    "\n",
    "fontsize = 16\n",
    "\n",
    "_, ax = plt.subplots(figsize = (10, 6))\n",
    "plt.rcParams.update({'font.size': fontsize})\n",
    "plt.plot(t_eval, p00_data[0,], label = '$\\\\rho_{00}$')\n",
    "plt.plot(t_eval, p11_data[0,], label = '$\\\\rho_{11}$')\n",
    "plt.plot(t_eval, p22_data[0,], label = '$\\\\rho_{22}$')\n",
    "plt.plot(t_eval, p30_data[0,], label = '$\\\\rho_{30}$')\n",
    "plt.plot(t_eval, p01_data[0,], label = '$\\\\rho_{01}$')\n",
    "plt.plot(t_eval, p12_data[0,], label = '$\\\\rho_{12}$')\n",
    "plt.plot(t_eval, p23_data[0,], label = '$\\\\rho_{23}$')\n",
    "\n",
    "plt.legend(fontsize = fontsize)\n",
    "ax.set_xlabel('$t$', fontsize = fontsize)\n",
    "ax.set_title(r'$\\rho_{ii}$ vs. $t$', fontsize = fontsize)\n",
    "    "
   ]
  },
  {
   "cell_type": "code",
   "execution_count": 807,
   "id": "5835e370-637d-49aa-b210-b6eee4dbd955",
   "metadata": {},
   "outputs": [
    {
     "data": {
      "image/png": "[encoded data removed]",
      "text/latex": [
       "$\\displaystyle \\left( 0.787044701312206, \\  0.0967674292940755, \\  0.0967674292940755, \\  5.23390679929895 \\cdot 10^{-8}, \\  0.153634244321628, \\  0.0775107279126747, \\  -0.000350561853422851\\right)$"
      ],
      "text/plain": [
       "(0.7870447013122063, 0.0967674292940755, 0.0967674292940755, 5.233906799298951e-08, 0.15363424432162845, 0.07751072 ↪\n",
       "\n",
       "↪ 791267472, -0.0003505618534228506)"
      ]
     },
     "execution_count": 807,
     "metadata": {},
     "output_type": "execute_result"
    }
   ],
   "source": [
    "p00_data[1, t_i], p11_data[1, t_i], p22_data[1, t_i], p33_data[1, t_i], p01_data[1, t_i], p12_data[1, t_i], p23_data[1, t_i]"
   ]
  },
  {
   "cell_type": "markdown",
   "id": "51660416-c354-4a03-95b2-fe410249d4cd",
   "metadata": {},
   "source": [
    "## Comprobación con solver"
   ]
  },
  {
   "cell_type": "code",
   "execution_count": 301,
   "id": "4d8b30a3-311d-4815-8a32-93e948f3fc73",
   "metadata": {},
   "outputs": [],
   "source": [
    "import numpy as np\n",
    "from qiskit.quantum_info import Operator, Pauli\n",
    "\n",
    "N = 2\n",
    "\n",
    "#guardo los operadores para cada qubit\n",
    "x_ops = []\n",
    "y_ops = []\n",
    "z_ops = []\n",
    "qubits = range(N)\n",
    "\n",
    "#defino un operador de ceros, ya que la función Pauli detecta la dim al sumarle este operador y \n",
    "#devuelve la matriz de pauli correspondiente en esa dim\n",
    "zeros = Operator(np.zeros((2 ** N, 2 ** N)))\n",
    "\n",
    "for i in qubits:\n",
    "    X =  Pauli('X')(i) + zeros\n",
    "    x_ops.append(X)\n",
    "\n",
    "    Y = zeros + Pauli('Y')(i)\n",
    "    y_ops.append(Y)\n",
    "\n",
    "    Z = zeros + Pauli('Z')(i)\n",
    "    z_ops.append(Z)\n"
   ]
  },
  {
   "cell_type": "code",
   "execution_count": 730,
   "id": "9309c3f0-ff0e-4424-a7b9-bf013ba098c5",
   "metadata": {},
   "outputs": [],
   "source": [
    "from qiskit_dynamics import Solver, Signal\n",
    "\n",
    "g = 1.\n",
    "J = 1.\n",
    "Gamma = 4.\n",
    "\n",
    "#definimos el hamiltoniano\n",
    "\n",
    "H = np.zeros((2**N, 2**N), dtype=complex)\n",
    "for i in qubits:\n",
    "    X = x_ops[i]\n",
    "    H -= g* X\n",
    "\n",
    "    #término de interacción entre qubits\n",
    "    if (N > 1) & (i<N-1):\n",
    "        j = (i + 1)\n",
    "        op = zeros + Pauli('ZZ')(i, j)\n",
    "        H -= J * op\n",
    "        \n",
    "#jump operators, segundo termino de la ecuacion de lindblad\n",
    "L_ops=[]\n",
    "for i in qubits:\n",
    "     X = x_ops[i]\n",
    "     Y = y_ops[i] \n",
    "     L_ops.append(np.sqrt(Gamma) * 0.5 * (X + 1j * Y))\n",
    "\n",
    "solver = Solver(static_hamiltonian=H, static_dissipators=L_ops)"
   ]
  },
  {
   "cell_type": "code",
   "execution_count": 731,
   "id": "e10bbcdf-2574-466e-ba27-b6c9cc2b15fc",
   "metadata": {},
   "outputs": [],
   "source": [
    "from qiskit.quantum_info import DensityMatrix\n",
    "\n",
    "t_final = 8. / Gamma\n",
    "tau = .01\n",
    "\n",
    "# Crear un circuito cuántico de 2 qubits en el estado de Bell |ψ⟩ = (|00⟩ + |11⟩) / √2\n",
    "bell_circuit = QuantumCircuit(2)\n",
    "bell_circuit.h(0)  \n",
    "bell_circuit.cx(0, 1)  \n",
    "\n",
    "# Convertir el estado resultante en una matriz de densidad\n",
    "y0 = DensityMatrix.from_instruction(bell_circuit)\n",
    "\n",
    "n_steps = int(np.ceil(t_final / tau)) + 1\n",
    "t_eval = np.linspace(0., t_final, n_steps)\n",
    "\n",
    "sol = solver.solve(t_span=[0., t_final], y0=y0, t_eval=t_eval)"
   ]
  },
  {
   "cell_type": "code",
   "execution_count": 732,
   "id": "cdb38e97-fc76-4072-b499-5a2e5b55e9f1",
   "metadata": {},
   "outputs": [],
   "source": [
    "n_times = len(sol.y)\n",
    "x_data = np.zeros((N, n_times))\n",
    "y_data = np.zeros((N, n_times))\n",
    "z_data = np.zeros((N, n_times))\n",
    "x_mean = np.zeros((n_times,))\n",
    "y_mean = np.zeros((n_times,))\n",
    "z_mean = np.zeros((n_times,))\n",
    "\n",
    "for t_i, sol_t in enumerate(sol.y):\n",
    "    for qubit, obs in enumerate(x_ops):\n",
    "        x_data[qubit, t_i] = sol_t.expectation_value(obs).real\n",
    "    x_mean[t_i] = np.mean(x_data[:, t_i])\n",
    "\n",
    "    for qubit, obs in enumerate(y_ops):\n",
    "        y_data[qubit, t_i] = sol_t.expectation_value(obs).real\n",
    "    y_mean[t_i] = np.mean(y_data[:, t_i])\n",
    "\n",
    "    for qubit, obs in enumerate(z_ops):\n",
    "        z_data[qubit, t_i] = sol_t.expectation_value(obs).real\n",
    "    z_mean[t_i] = np.mean(z_data[:, t_i])"
   ]
  },
  {
   "cell_type": "code",
   "execution_count": 733,
   "id": "bc3f00ca-c7fc-4fc4-bdf8-74dcbcbc2f9c",
   "metadata": {
    "scrolled": true
   },
   "outputs": [
    {
     "name": "stderr",
     "output_type": "stream",
     "text": [
      "<>:9: SyntaxWarning: invalid escape sequence '\\s'\n",
      "<>:9: SyntaxWarning: invalid escape sequence '\\s'\n",
      "C:\\Users\\aileo\\AppData\\Local\\Temp\\ipykernel_15472\\484671382.py:9: SyntaxWarning: invalid escape sequence '\\s'\n",
      "  plt.plot(t_eval, x_data[1], label = '$ N^{-1}\\sum_i \\\\langle X_i \\\\rangle$')\n"
     ]
    },
    {
     "data": {
      "image/png": "[encoded data removed]",
      "text/plain": [
       "<Figure size 1000x600 with 1 Axes>"
      ]
     },
     "metadata": {},
     "output_type": "display_data"
    }
   ],
   "source": [
    "from qiskit.visualization import plot_bloch_vector\n",
    "import matplotlib.pyplot as plt\n",
    "%matplotlib inline\n",
    "\n",
    "fontsize = 16\n",
    "\n",
    "_, ax = plt.subplots(figsize = (10, 6))\n",
    "plt.rcParams.update({'font.size': fontsize})\n",
    "plt.plot(t_eval, x_data[1], label = '$ N^{-1}\\sum_i \\\\langle X_i \\\\rangle$')\n",
    "#plt.plot(t_eval, y_mean, label = '$ N^{-1}\\sum_i \\\\langle Y_i \\\\rangle$')\n",
    "#plt.plot(t_eval, z_mean, label = '$ N^{-1}\\sum_i \\\\langle Z_i \\\\rangle$')\n",
    "plt.legend(fontsize = fontsize)\n",
    "ax.set_xlabel('$t$', fontsize = fontsize)\n",
    "ax.set_title('Mean Bloch vector vs. $t$', fontsize = fontsize)\n",
    "\n",
    "\n",
    "if N > 1 and ((abs(x_mean[-1]) > 1e-5 and abs(x_data[0, -1] / x_mean[-1] - 1) > 1e-5 or\n",
    "              (abs(z_mean[-1]) > 1e-5 and abs(z_data[1, -1] / z_mean[-1] - 1) > 1e-5))):\n",
    "    print(\"The solution at the final time appears to break translation invariance. \"\n",
    "          \"The precision of the simulation should be examined.\")"
   ]
  },
  {
   "cell_type": "markdown",
   "id": "200cb8ed-d96a-4b8a-8a6b-61c9d28a4db4",
   "metadata": {},
   "source": [
    "# etc"
   ]
  },
  {
   "cell_type": "code",
   "execution_count": 370,
   "id": "3393e1af-7743-45d7-8ac0-d1c087914f9c",
   "metadata": {},
   "outputs": [],
   "source": [
    "import sympy as sp\n",
    "from sympy.physics.quantum import Dagger\n",
    "\n",
    "sp.init_printing(use_unicode=True) #print bonito\n",
    "\n",
    "#definimos un hamiltoniano generico\n",
    "\n",
    "n = sp.symbols('n', integer=True)  # Puedes especificar un valor específico de n si lo conoces\n",
    "n=2\n",
    "H = sp.Matrix(n, n, lambda i, j: sp.symbols(f'h_{i+1}{j+1}'))\n",
    "rho = sp.Matrix(n, n, lambda i, j: sp.symbols(f'rho_{i+1}{j+1}'))\n",
    "\n",
    "L = []\n",
    "for q in range(int(n/2)):  #cada qubit\n",
    "    L_q = sp.Matrix(n, n, lambda i, j: sp.symbols(f'L_{i+1}{j+1}^{q}')) \n",
    "    L.append(L_q)\n",
    "\n",
    "# Calculamos el adjunto de cada matriz L_q\n",
    "L_adj = [Dagger(L_q) for L_q in L]\n",
    "\n",
    "#ahora operamos\n",
    "\n",
    "i=sp.I #def la unidad imaginaria\n",
    "gamma = sp.symbols('Gamma')\n",
    "\n",
    "\n",
    "term1=-i*(H*rho-rho*H)\n",
    "term2=sp.Matrix.zeros(n,n)\n",
    "for q in range(int(n/2)):\n",
    "    term2+=L_adj[q]*rho*L[q]-1/2*(L[q]*L_adj[q]*rho+rho*L[q]*L_adj[q])\n",
    "\n",
    "term2_simplified = sp.simplify(term2)\n",
    "rho_t= (term1+gamma*term2)\n",
    "\n"
   ]
  },
  {
   "cell_type": "markdown",
   "id": "5427a79e-0d5d-41e6-9f6a-a0f366e09c77",
   "metadata": {},
   "source": [
    "### Comprobación con el paper de Dani"
   ]
  },
  {
   "cell_type": "code",
   "execution_count": 768,
   "id": "7ca72f8f-6324-4352-9430-81fb15ede841",
   "metadata": {},
   "outputs": [
    {
     "data": {
      "text/latex": [
       "$\\displaystyle \\left[ \\left[\\begin{matrix}0.0 & 2.0\\\\0.0 & 0.0\\end{matrix}\\right]\\right]$"
      ],
      "text/plain": [
       "⎡⎡0.0  2.0⎤⎤\n",
       "⎢⎢        ⎥⎥\n",
       "⎣⎣0.0  0.0⎦⎦"
      ]
     },
     "execution_count": 768,
     "metadata": {},
     "output_type": "execute_result"
    }
   ],
   "source": [
    "#definimos las matrices\n",
    "n=2\n",
    "gamma=4.\n",
    "# Definir un Hamiltoniano H con valores numéricos\n",
    "H = sp.Matrix([[1.0, 0.5], \n",
    "               [0.5, 1.0]])\n",
    "\n",
    "# Definir operadores de salto L con valores numéricos\n",
    "L = [\n",
    "    sp.Matrix([[0.0, np.sqrt(gamma)*1.0], \n",
    "                [0.0, 0.0]]),  # L_1\n",
    "]\n",
    "\n",
    "liouvillian,a= calculate_liouvillian(H, L, n)\n",
    "L"
   ]
  },
  {
   "cell_type": "code",
   "execution_count": 711,
   "id": "c529c7a8-f282-4356-afef-0395444b7a88",
   "metadata": {},
   "outputs": [],
   "source": [
    "sp.init_printing(use_unicode=True)  # Print bonito\n",
    "eigenvalues = liouvillian.eigenvals()  # Obtiene los autovalores\n",
    "eigenvectors = liouvillian.eigenvects()  # Obtiene los autovectores\n"
   ]
  },
  {
   "cell_type": "code",
   "execution_count": 712,
   "id": "92e6a86c-8b7b-4f9d-af26-c0cba7416f7d",
   "metadata": {},
   "outputs": [
    {
     "data": {
      "image/png": "[encoded data removed]",
      "text/latex": [
       "$\\displaystyle \\left\\{ -3.0 : 2, \\  -2.0 : 1, \\  -1.6376905061258 \\cdot 10^{-64} : 1\\right\\}$"
      ],
      "text/plain": [
       "{-3.0: 2, -2.0: 1, -1.6376905061258e-64: 1}"
      ]
     },
     "execution_count": 712,
     "metadata": {},
     "output_type": "execute_result"
    }
   ],
   "source": [
    "eigenvalues"
   ]
  },
  {
   "cell_type": "code",
   "execution_count": 713,
   "id": "835235ff-201a-44a6-be2d-f0dac048c233",
   "metadata": {},
   "outputs": [
    {
     "data": {
      "text/latex": [
       "$\\displaystyle \\left[ \\left( -2.0, \\  1, \\  \\left[ \\left[\\begin{matrix}-6.83680877694706 \\cdot 10^{-64}\\\\0.707106781186548 i\\\\0.707106781186548 i\\\\2.27893625898235 \\cdot 10^{-64}\\end{matrix}\\right]\\right]\\right), \\  \\left( -1.6376905061258 \\cdot 10^{-64}, \\  1, \\  \\left[ \\left[\\begin{matrix}-0.9473729613781\\\\- 0.222911285030141 i\\\\0.222911285030141 i\\\\-0.0557278212575353\\end{matrix}\\right]\\right]\\right), \\  \\left( -3.0, \\  1, \\  \\left[ \\left[\\begin{matrix}0.512905347432484\\\\- 0.512905347432484 i\\\\0.512905347432484 i\\\\-0.512905347432484\\end{matrix}\\right]\\right]\\right), \\  \\left( -3.0, \\  1, \\  \\left[ \\left[\\begin{matrix}0.512905347432484\\\\- 0.512905347432484 i\\\\0.512905347432484 i\\\\-0.512905347432484\\end{matrix}\\right]\\right]\\right)\\right]$"
      ],
      "text/plain": [
       "⎡⎛         ⎡⎡-6.83680877694706e-64⎤⎤⎞  ⎛                         ⎡⎡  -0.9473729613781  ⎤⎤⎞  ⎛         ⎡⎡ 0.51290534 ↪\n",
       "⎢⎜         ⎢⎢                     ⎥⎥⎟  ⎜                         ⎢⎢                    ⎥⎥⎟  ⎜         ⎢⎢            ↪\n",
       "⎢⎜         ⎢⎢ 0.707106781186548⋅ⅈ ⎥⎥⎟  ⎜                         ⎢⎢-0.222911285030141⋅ⅈ⎥⎥⎟  ⎜         ⎢⎢-0.51290534 ↪\n",
       "⎢⎜-2.0, 1, ⎢⎢                     ⎥⎥⎟, ⎜-1.6376905061258e-64, 1, ⎢⎢                    ⎥⎥⎟, ⎜-3.0, 1, ⎢⎢            ↪\n",
       "⎢⎜         ⎢⎢ 0.707106781186548⋅ⅈ ⎥⎥⎟  ⎜                         ⎢⎢0.222911285030141⋅ⅈ ⎥⎥⎟  ⎜         ⎢⎢0.512905347 ↪\n",
       "⎢⎜         ⎢⎢                     ⎥⎥⎟  ⎜                         ⎢⎢                    ⎥⎥⎟  ⎜         ⎢⎢            ↪\n",
       "⎣⎝         ⎣⎣2.27893625898235e-64 ⎦⎦⎠  ⎝                         ⎣⎣-0.0557278212575353 ⎦⎦⎠  ⎝         ⎣⎣ -0.5129053 ↪\n",
       "\n",
       "↪ 7432484  ⎤⎤⎞  ⎛         ⎡⎡ 0.512905347432484  ⎤⎤⎞⎤\n",
       "↪          ⎥⎥⎟  ⎜         ⎢⎢                    ⎥⎥⎟⎥\n",
       "↪ 7432484⋅ⅈ⎥⎥⎟  ⎜         ⎢⎢-0.512905347432484⋅ⅈ⎥⎥⎟⎥\n",
       "↪          ⎥⎥⎟, ⎜-3.0, 1, ⎢⎢                    ⎥⎥⎟⎥\n",
       "↪ 432484⋅ⅈ ⎥⎥⎟  ⎜         ⎢⎢0.512905347432484⋅ⅈ ⎥⎥⎟⎥\n",
       "↪          ⎥⎥⎟  ⎜         ⎢⎢                    ⎥⎥⎟⎥\n",
       "↪ 47432484 ⎦⎦⎠  ⎝         ⎣⎣ -0.512905347432484 ⎦⎦⎠⎦"
      ]
     },
     "execution_count": 713,
     "metadata": {},
     "output_type": "execute_result"
    }
   ],
   "source": [
    "eigenvectors"
   ]
  },
  {
   "cell_type": "code",
   "execution_count": null,
   "id": "a16ae92d-e9e3-47d3-9a73-ec29efa49c64",
   "metadata": {},
   "outputs": [],
   "source": []
  }
 ],
 "metadata": {
  "kernelspec": {
   "display_name": "Python 3 (ipykernel)",
   "language": "python",
   "name": "python3"
  },
  "language_info": {
   "codemirror_mode": {
    "name": "ipython",
    "version": 3
   },
   "file_extension": ".py",
   "mimetype": "text/x-python",
   "name": "python",
   "nbconvert_exporter": "python",
   "pygments_lexer": "ipython3",
   "version": "3.12.7"
  }
 },
 "nbformat": 4,
 "nbformat_minor": 5
}
